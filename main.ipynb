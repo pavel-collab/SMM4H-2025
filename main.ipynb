{
 "cells": [
  {
   "cell_type": "code",
   "execution_count": null,
   "metadata": {},
   "outputs": [],
   "source": [
    "import pandas as pd"
   ]
  },
  {
   "cell_type": "code",
   "execution_count": null,
   "metadata": {},
   "outputs": [],
   "source": [
    "df = pd.read_csv(\"./data/train_data_SMM4H_2025_Task_1.csv\")"
   ]
  },
  {
   "cell_type": "code",
   "execution_count": null,
   "metadata": {},
   "outputs": [],
   "source": [
    "df.head(20)"
   ]
  },
  {
   "cell_type": "code",
   "execution_count": null,
   "metadata": {},
   "outputs": [],
   "source": [
    "df.info()"
   ]
  },
  {
   "cell_type": "code",
   "execution_count": null,
   "metadata": {},
   "outputs": [],
   "source": [
    "df.shape"
   ]
  },
  {
   "cell_type": "code",
   "execution_count": null,
   "metadata": {},
   "outputs": [],
   "source": [
    "import matplotlib.pyplot as plt\n",
    "import seaborn as sns"
   ]
  },
  {
   "cell_type": "code",
   "execution_count": null,
   "metadata": {},
   "outputs": [],
   "source": [
    "classes_list = [\"no ADE\", \"ADE\"]"
   ]
  },
  {
   "cell_type": "code",
   "execution_count": null,
   "metadata": {},
   "outputs": [],
   "source": [
    "class_count_general = [df[df.label == i].size for i in [0, 1]]\n",
    "class_count_en = [df[df['language'] == \"en\"][df.label == i].size for i in [0, 1]]\n",
    "class_count_ru = [df[df['language'] == \"ru\"][df.label == i].size for i in [0, 1]]\n",
    "class_count_fr = [df[df['language'] == \"fr\"][df.label == i].size for i in [0, 1]]\n",
    "class_count_de = [df[df['language'] == \"de\"][df.label == i].size for i in [0, 1]]"
   ]
  },
  {
   "cell_type": "code",
   "execution_count": null,
   "metadata": {},
   "outputs": [],
   "source": [
    "# Создать barplot\n",
    "fig, ax = plt.subplots(1, 1, figsize=(7, 6))\n",
    "\n",
    "# Barplot для обучающего набора данных\n",
    "sns.barplot(x=classes_list, y=class_count_general, ax=ax)\n",
    "ax.set_title('General distribution')\n",
    "ax.set_xlabel('Class')\n",
    "ax.set_ylabel('Number of samples')\n",
    "# ax[0].tick_params(axis='x', rotation=90)\n",
    "plt.tight_layout()"
   ]
  },
  {
   "cell_type": "code",
   "execution_count": null,
   "metadata": {},
   "outputs": [],
   "source": [
    "# Создать barplot\n",
    "fig, ax = plt.subplots(2, 2, figsize=(14, 12))\n",
    "\n",
    "# Barplot для обучающего набора данных\n",
    "sns.barplot(x=classes_list, y=class_count_en, ax=ax[0, 0])\n",
    "ax[0, 0].set_title('Distribution English')\n",
    "ax[0, 0].set_xlabel('Class')\n",
    "ax[0, 0].set_ylabel('Number of samples')\n",
    "\n",
    "# Barplot для валидационного набора данных\n",
    "sns.barplot(x=classes_list, y=class_count_ru, ax=ax[0, 1])\n",
    "ax[0, 1].set_title('Distribution Russian')\n",
    "ax[0, 1].set_xlabel('Class')\n",
    "ax[0, 1].set_ylabel('Number of samples')\n",
    "\n",
    "sns.barplot(x=classes_list, y=class_count_fr, ax=ax[1, 0])\n",
    "ax[1, 0].set_title('Distribution French')\n",
    "ax[1, 0].set_xlabel('Class')\n",
    "ax[1, 0].set_ylabel('Number of samples')\n",
    "\n",
    "sns.barplot(x=classes_list, y=class_count_de, ax=ax[1, 1])\n",
    "ax[1, 1].set_title('Distribution German')\n",
    "ax[1, 1].set_xlabel('Class')\n",
    "ax[1, 1].set_ylabel('Number of samples')\n",
    "\n",
    "plt.tight_layout()"
   ]
  },
  {
   "cell_type": "code",
   "execution_count": null,
   "metadata": {},
   "outputs": [],
   "source": [
    "df['label'].value_counts()"
   ]
  },
  {
   "cell_type": "code",
   "execution_count": null,
   "metadata": {},
   "outputs": [],
   "source": [
    "df.groupby('language').size()"
   ]
  },
  {
   "cell_type": "code",
   "execution_count": null,
   "metadata": {},
   "outputs": [],
   "source": [
    "languages = df['language'].unique().tolist()\n",
    "languages"
   ]
  },
  {
   "cell_type": "code",
   "execution_count": null,
   "metadata": {},
   "outputs": [],
   "source": [
    "for lang in languages:\n",
    "    print(f\"Language: {lang}\")\n",
    "    print(df[df['language'] == lang].groupby('label').size())\n",
    "    print()"
   ]
  },
  {
   "cell_type": "code",
   "execution_count": null,
   "metadata": {},
   "outputs": [],
   "source": [
    "df[df['language'] == \"en\"].groupby('label').size()"
   ]
  },
  {
   "cell_type": "code",
   "execution_count": null,
   "metadata": {},
   "outputs": [],
   "source": [
    "new_df = df[df['language'] == 'ru']"
   ]
  },
  {
   "cell_type": "code",
   "execution_count": null,
   "metadata": {},
   "outputs": [],
   "source": [
    "new_df = new_df.reset_index()\n",
    "new_df"
   ]
  },
  {
   "cell_type": "code",
   "execution_count": null,
   "metadata": {},
   "outputs": [],
   "source": [
    "negative_samples_number = positive_samples_number  = 10\n",
    "idx = 0\n",
    "\n",
    "positive_samples = []\n",
    "negative_samples = []\n",
    "\n",
    "while negative_samples_number > 0 or positive_samples_number > 0:\n",
    "    if int(new_df['label'][idx]) == 1:\n",
    "        positive_samples.append(new_df['text'][idx])\n",
    "        positive_samples_number -= 1\n",
    "    else:\n",
    "        negative_samples.append(new_df['text'][idx])\n",
    "        negative_samples_number -= 1\n",
    "    idx += 1"
   ]
  },
  {
   "cell_type": "code",
   "execution_count": null,
   "metadata": {},
   "outputs": [],
   "source": [
    "positive_samples"
   ]
  },
  {
   "cell_type": "code",
   "execution_count": null,
   "metadata": {},
   "outputs": [],
   "source": [
    "negative_samples"
   ]
  }
 ],
 "metadata": {
  "kernelspec": {
   "display_name": ".venv",
   "language": "python",
   "name": "python3"
  },
  "language_info": {
   "codemirror_mode": {
    "name": "ipython",
    "version": 3
   },
   "file_extension": ".py",
   "mimetype": "text/x-python",
   "name": "python",
   "nbconvert_exporter": "python",
   "pygments_lexer": "ipython3",
   "version": "3.12.3"
  }
 },
 "nbformat": 4,
 "nbformat_minor": 2
}
